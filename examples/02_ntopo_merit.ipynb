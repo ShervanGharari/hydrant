{
 "cells": [
  {
   "cell_type": "code",
   "execution_count": null,
   "id": "5ff04657-322d-4fe4-9fc1-7cee99380a63",
   "metadata": {},
   "outputs": [],
   "source": []
  },
  {
   "cell_type": "code",
   "execution_count": 2,
   "id": "c506d9d8-26c8-42a9-9f77-6b3f55434d7c",
   "metadata": {},
   "outputs": [
    {
     "ename": "ModuleNotFoundError",
     "evalue": "No module named 'numpy'",
     "output_type": "error",
     "traceback": [
      "\u001b[0;31m---------------------------------------------------------------------------\u001b[0m",
      "\u001b[0;31mModuleNotFoundError\u001b[0m                       Traceback (most recent call last)",
      "Cell \u001b[0;32mIn[2], line 1\u001b[0m\n\u001b[0;32m----> 1\u001b[0m \u001b[38;5;28;01mimport\u001b[39;00m \u001b[38;5;21;01mgeopandas\u001b[39;00m \u001b[38;5;28;01mas\u001b[39;00m \u001b[38;5;21;01mgpd\u001b[39;00m\n\u001b[1;32m      2\u001b[0m \u001b[38;5;28;01mimport\u001b[39;00m \u001b[38;5;21;01mpandas\u001b[39;00m \u001b[38;5;28;01mas\u001b[39;00m \u001b[38;5;21;01mpd\u001b[39;00m\n\u001b[1;32m      3\u001b[0m \u001b[38;5;28;01mimport\u001b[39;00m \u001b[38;5;21;01mnumpy\u001b[39;00m \u001b[38;5;28;01mas\u001b[39;00m \u001b[38;5;21;01mnp\u001b[39;00m\n",
      "File \u001b[0;32m~/FHIMP/virtual_env/fhimp_venv/lib/python3.10/site-packages/geopandas/__init__.py:1\u001b[0m\n\u001b[0;32m----> 1\u001b[0m \u001b[38;5;28;01mfrom\u001b[39;00m \u001b[38;5;21;01mgeopandas\u001b[39;00m\u001b[38;5;21;01m.\u001b[39;00m\u001b[38;5;21;01m_config\u001b[39;00m \u001b[38;5;28;01mimport\u001b[39;00m options\n\u001b[1;32m      3\u001b[0m \u001b[38;5;28;01mfrom\u001b[39;00m \u001b[38;5;21;01mgeopandas\u001b[39;00m\u001b[38;5;21;01m.\u001b[39;00m\u001b[38;5;21;01mgeoseries\u001b[39;00m \u001b[38;5;28;01mimport\u001b[39;00m GeoSeries\n\u001b[1;32m      4\u001b[0m \u001b[38;5;28;01mfrom\u001b[39;00m \u001b[38;5;21;01mgeopandas\u001b[39;00m\u001b[38;5;21;01m.\u001b[39;00m\u001b[38;5;21;01mgeodataframe\u001b[39;00m \u001b[38;5;28;01mimport\u001b[39;00m GeoDataFrame\n",
      "File \u001b[0;32m~/FHIMP/virtual_env/fhimp_venv/lib/python3.10/site-packages/geopandas/_config.py:109\u001b[0m\n\u001b[1;32m    102\u001b[0m     \u001b[38;5;28;01mimport\u001b[39;00m \u001b[38;5;21;01mgeopandas\u001b[39;00m\u001b[38;5;21;01m.\u001b[39;00m\u001b[38;5;21;01m_compat\u001b[39;00m \u001b[38;5;28;01mas\u001b[39;00m \u001b[38;5;21;01mcompat\u001b[39;00m\n\u001b[1;32m    104\u001b[0m     compat\u001b[38;5;241m.\u001b[39mset_use_pygeos(value)\n\u001b[1;32m    107\u001b[0m use_pygeos \u001b[38;5;241m=\u001b[39m Option(\n\u001b[1;32m    108\u001b[0m     key\u001b[38;5;241m=\u001b[39m\u001b[38;5;124m\"\u001b[39m\u001b[38;5;124muse_pygeos\u001b[39m\u001b[38;5;124m\"\u001b[39m,\n\u001b[0;32m--> 109\u001b[0m     default_value\u001b[38;5;241m=\u001b[39m\u001b[43m_default_use_pygeos\u001b[49m\u001b[43m(\u001b[49m\u001b[43m)\u001b[49m,\n\u001b[1;32m    110\u001b[0m     doc\u001b[38;5;241m=\u001b[39m(\n\u001b[1;32m    111\u001b[0m         \u001b[38;5;124m\"\u001b[39m\u001b[38;5;124mWhether to use PyGEOS to speed up spatial operations. The default is True \u001b[39m\u001b[38;5;124m\"\u001b[39m\n\u001b[1;32m    112\u001b[0m         \u001b[38;5;124m\"\u001b[39m\u001b[38;5;124mif PyGEOS is installed, and follows the USE_PYGEOS environment variable \u001b[39m\u001b[38;5;124m\"\u001b[39m\n\u001b[1;32m    113\u001b[0m         \u001b[38;5;124m\"\u001b[39m\u001b[38;5;124mif set.\u001b[39m\u001b[38;5;124m\"\u001b[39m\n\u001b[1;32m    114\u001b[0m     ),\n\u001b[1;32m    115\u001b[0m     validator\u001b[38;5;241m=\u001b[39m_validate_bool,\n\u001b[1;32m    116\u001b[0m     callback\u001b[38;5;241m=\u001b[39m_callback_use_pygeos,\n\u001b[1;32m    117\u001b[0m )\n\u001b[1;32m    120\u001b[0m \u001b[38;5;28;01mdef\u001b[39;00m \u001b[38;5;21m_validate_io_engine\u001b[39m(value):\n\u001b[1;32m    121\u001b[0m     \u001b[38;5;28;01mif\u001b[39;00m value \u001b[38;5;129;01mis\u001b[39;00m \u001b[38;5;129;01mnot\u001b[39;00m \u001b[38;5;28;01mNone\u001b[39;00m:\n",
      "File \u001b[0;32m~/FHIMP/virtual_env/fhimp_venv/lib/python3.10/site-packages/geopandas/_config.py:95\u001b[0m, in \u001b[0;36m_default_use_pygeos\u001b[0;34m()\u001b[0m\n\u001b[1;32m     94\u001b[0m \u001b[38;5;28;01mdef\u001b[39;00m \u001b[38;5;21m_default_use_pygeos\u001b[39m():\n\u001b[0;32m---> 95\u001b[0m     \u001b[38;5;28;01mimport\u001b[39;00m \u001b[38;5;21;01mgeopandas\u001b[39;00m\u001b[38;5;21;01m.\u001b[39;00m\u001b[38;5;21;01m_compat\u001b[39;00m \u001b[38;5;28;01mas\u001b[39;00m \u001b[38;5;21;01mcompat\u001b[39;00m\n\u001b[1;32m     97\u001b[0m     \u001b[38;5;28;01mreturn\u001b[39;00m compat\u001b[38;5;241m.\u001b[39mUSE_PYGEOS\n",
      "File \u001b[0;32m~/FHIMP/virtual_env/fhimp_venv/lib/python3.10/site-packages/geopandas/_compat.py:7\u001b[0m\n\u001b[1;32m      4\u001b[0m \u001b[38;5;28;01mimport\u001b[39;00m \u001b[38;5;21;01mos\u001b[39;00m\n\u001b[1;32m      5\u001b[0m \u001b[38;5;28;01mimport\u001b[39;00m \u001b[38;5;21;01mwarnings\u001b[39;00m\n\u001b[0;32m----> 7\u001b[0m \u001b[38;5;28;01mimport\u001b[39;00m \u001b[38;5;21;01mnumpy\u001b[39;00m \u001b[38;5;28;01mas\u001b[39;00m \u001b[38;5;21;01mnp\u001b[39;00m\n\u001b[1;32m      8\u001b[0m \u001b[38;5;28;01mimport\u001b[39;00m \u001b[38;5;21;01mpandas\u001b[39;00m \u001b[38;5;28;01mas\u001b[39;00m \u001b[38;5;21;01mpd\u001b[39;00m\n\u001b[1;32m      9\u001b[0m \u001b[38;5;28;01mimport\u001b[39;00m \u001b[38;5;21;01mshapely\u001b[39;00m\n",
      "\u001b[0;31mModuleNotFoundError\u001b[0m: No module named 'numpy'"
     ]
    }
   ],
   "source": [
    "import geopandas as gpd\n",
    "import pandas as pd\n",
    "import numpy as np\n",
    "import matplotlib.pyplot as plt\n",
    "import hydrant.topology.geom as gm\n",
    "import subprocess\n",
    "import os\n",
    "from   shapely.geometry import Point"
   ]
  },
  {
   "cell_type": "code",
   "execution_count": null,
   "id": "14635c93-a624-495b-9b85-354d00faae6b",
   "metadata": {},
   "outputs": [],
   "source": [
    "# inputs\n",
    "path_out = './output/'\n",
    "pfafs = ['71','78'] # 71 Saskatchewan, 78 Colombia\n",
    "# riv_path = '/project/def-kshook/temp/MERIT-Basins/MERIT_Hydro_v07_Basins_v01_bugfix1/pfaf_level_02/'\n",
    "# cat_path = '/project/def-kshook/temp/MERIT-Basins/MERIT_Hydro_v07_Basins_v01_bugfix1/pfaf_level_02/'\n",
    "# cst_path = '/project/def-kshook/temp/MERIT-Basins/MERIT_Hydro_v07_Basins_v01_bugfix1/coastal_hillslopes/'\n",
    "riv_path = '/project/def-kshook/uofc-share/MERIT-Basins/MERIT_Hydro_v07_Basins_v01_bugfix1/pfaf_level_02/'\n",
    "cat_path = '/project/def-kshook/uofc-share/MERIT-Basins/MERIT_Hydro_v07_Basins_v01_bugfix1/pfaf_level_02/'\n",
    "cst_path = '/project/def-kshook/uofc-share/MERIT-Basins/MERIT_Hydro_v07_Basins_v01_bugfix1/coastal_hillslopes/'\n",
    "riv_file_template = 'riv_pfaf_*_MERIT_Hydro_v07_Basins_v01_bugfix1.shp'\n",
    "cat_file_template = 'cat_pfaf_*_MERIT_Hydro_v07_Basins_v01_bugfix1.shp'\n",
    "cst_file_template = 'hillslope_*_clean.shp'"
   ]
  },
  {
   "cell_type": "code",
   "execution_count": null,
   "id": "22d9da96-99f8-412b-8ce8-b5c1136cb3a9",
   "metadata": {},
   "outputs": [],
   "source": [
    "if not os.path.isdir(path_out):\n",
    "    os.makedirs(path_out)"
   ]
  },
  {
   "cell_type": "markdown",
   "id": "d7c981fc-c9a6-4521-947c-19ca56ec5376",
   "metadata": {},
   "source": [
    "# Load and append the pfaf"
   ]
  },
  {
   "cell_type": "code",
   "execution_count": null,
   "id": "be862e7d-23a5-427c-aff1-53d8716a9e3c",
   "metadata": {},
   "outputs": [],
   "source": [
    "riv, cat = gm.merit_read_file (pfafs,\n",
    "                               riv_path,\n",
    "                               riv_file_template,\n",
    "                               cat_path,\n",
    "                               cat_file_template,\n",
    "                               path_cst = cst_path,\n",
    "                               cst_file_template = cst_file_template)"
   ]
  },
  {
   "cell_type": "markdown",
   "id": "51a01250-296a-4141-aec5-96afe5a4af23",
   "metadata": {},
   "source": [
    "# prepare the network topology"
   ]
  },
  {
   "cell_type": "code",
   "execution_count": null,
   "id": "aa4d3079-902a-42b1-98b1-0e50cf54a638",
   "metadata": {},
   "outputs": [],
   "source": [
    "riv, cat = gm.prepare_ntopo(riv=riv,\\\n",
    "                            riv_cols={'id':'COMID', 'next_id':'NextDownID'},\\\n",
    "                            cat=cat,\\\n",
    "                            cat_cols={'id':'COMID', 'hillslope':'hillslope', 'area' :'unitarea'},\\\n",
    "                            network = 'merit')"
   ]
  },
  {
   "cell_type": "markdown",
   "id": "329e6b50-9641-453c-8fd9-0258e7128b6a",
   "metadata": {},
   "source": [
    "# Example-1 From Fraser River"
   ]
  },
  {
   "cell_type": "code",
   "execution_count": null,
   "id": "a0bfe750-8299-49eb-af0b-243cb1906de5",
   "metadata": {},
   "outputs": [],
   "source": [
    "# set the case name\n",
    "prefix = 'Fraser_merit_'"
   ]
  },
  {
   "cell_type": "code",
   "execution_count": null,
   "id": "7e80eb04-7c61-4bbf-bdb3-8f2af898fdfd",
   "metadata": {},
   "outputs": [],
   "source": [
    "# slice the domain for various stations and their seg ID\n",
    "cat_slice, riv_slice = gm.subset_ntopo(cat=cat,\\\n",
    "                                       cat_cols={'id':'COMID'},\\\n",
    "                                       riv=riv,\\\n",
    "                                       riv_cols={'id':'COMID', 'next_id':'NextDownID'},\\\n",
    "                                       outlet_id=[78011886]) # segment that is aimed to make the subbasin for\n"
   ]
  },
  {
   "cell_type": "code",
   "execution_count": null,
   "id": "7b9479a3-3f8d-4ddc-83ee-63b2259369d7",
   "metadata": {},
   "outputs": [],
   "source": [
    "fig, ax = plt.subplots(figsize=(20,30))\n",
    "riv_slice.plot(ax=ax, color='b')\n",
    "cat_slice.boundary.plot(ax=ax, color='k')"
   ]
  },
  {
   "cell_type": "code",
   "execution_count": null,
   "id": "abb5eb42-39f7-4258-94cd-36f131941b8f",
   "metadata": {},
   "outputs": [],
   "source": [
    "xr_ntopo = gm.create_xr_ntopo(riv_slice,\n",
    "                              cat_slice,\n",
    "                              network = 'merit')\n",
    "xr_ntopo"
   ]
  },
  {
   "cell_type": "markdown",
   "id": "289a2195-3248-456c-b415-4406b371c45f",
   "metadata": {},
   "source": [
    "## save"
   ]
  },
  {
   "cell_type": "code",
   "execution_count": null,
   "id": "ff1ff170-9fd2-437e-a396-6871885413c9",
   "metadata": {},
   "outputs": [],
   "source": [
    "cat_slice.to_file(path_out+prefix+'cat.shp')\n",
    "riv_slice.to_file(path_out+prefix+'riv.shp')\n",
    "xr_ntopo.to_netcdf(path_out+prefix+'ntopo.nc')"
   ]
  },
  {
   "cell_type": "markdown",
   "id": "3bdd38e2-6382-4db4-82a9-7a2c54d00b79",
   "metadata": {},
   "source": [
    "# Example-2 From basins of identified pfafs that intersect with Alberta and Saskatchewan"
   ]
  },
  {
   "cell_type": "code",
   "execution_count": null,
   "id": "72035027-1c6b-4d40-80bb-e6a034f843a5",
   "metadata": {},
   "outputs": [],
   "source": [
    "# set the case name\n",
    "prefix = 'ALSASK_merit_'"
   ]
  },
  {
   "cell_type": "code",
   "execution_count": null,
   "id": "affeaa71-5db6-40f9-85f5-85fe2f839ea8",
   "metadata": {},
   "outputs": [],
   "source": [
    "# load the info and the provience\n",
    "trg_shp = gpd.read_file('./data/province/provinces.shp')\n",
    "sel_pr = ['Alberta','Saskatchewan']\n",
    "# subsetting `provinces` variable\n",
    "trg_provinces = trg_shp.loc[trg_shp.PRENAME.isin(sel_pr)].copy().to_crs(epsg=4326)"
   ]
  },
  {
   "cell_type": "code",
   "execution_count": null,
   "id": "5771d5f6-7e89-4ea9-9cc7-c8f36d95e1d1",
   "metadata": {},
   "outputs": [],
   "source": [
    "# slice the domain for various stations and their seg ID\n",
    "cat_slice, riv_slice = gm.subset_ntopo(cat=cat,\\\n",
    "                                       cat_cols={'id':'COMID'},\\\n",
    "                                       riv=riv,\\\n",
    "                                       riv_cols={'id':'COMID', 'next_id':'NextDownID'},\\\n",
    "                                       shapefile=trg_provinces, touch_shapefile = True)"
   ]
  },
  {
   "cell_type": "code",
   "execution_count": null,
   "id": "109a7007-6498-41d4-aaa2-f8ee8aa285ea",
   "metadata": {},
   "outputs": [],
   "source": [
    "fig, ax = plt.subplots(figsize=(20,30))\n",
    "trg_provinces.boundary.plot(ax=ax, color='k')\n",
    "riv_slice.plot(ax=ax, color='b')\n",
    "cat_slice.boundary.plot(ax=ax, color='k')"
   ]
  },
  {
   "cell_type": "code",
   "execution_count": null,
   "id": "344809b0-ae13-4f2d-a7a8-0e96aad4748c",
   "metadata": {},
   "outputs": [],
   "source": [
    "xr_ntopo = gm.create_xr_ntopo(riv_slice,\n",
    "                              cat_slice,\n",
    "                              network = 'merit')\n",
    "xr_ntopo"
   ]
  },
  {
   "cell_type": "code",
   "execution_count": null,
   "id": "cfc8cdeb-324e-43ad-8c9e-30e7bde9c513",
   "metadata": {},
   "outputs": [],
   "source": [
    "cat_slice.to_file(path_out+prefix+'cat.shp')\n",
    "riv_slice.to_file(path_out+prefix+'riv.shp')\n",
    "xr_ntopo.to_netcdf(path_out+prefix+'ntopo.nc')"
   ]
  },
  {
   "cell_type": "markdown",
   "id": "dbf1f994-a844-4c99-a873-2b3ac0c0285e",
   "metadata": {},
   "source": [
    "# Example-3 From basins of identified pfafs that intersect with target stations in Alberta"
   ]
  },
  {
   "cell_type": "code",
   "execution_count": null,
   "id": "39060978-c5dc-47e5-94ac-3b5fd7704cd4",
   "metadata": {},
   "outputs": [],
   "source": [
    "# set the case name\n",
    "prefix = 'stations_merit_'"
   ]
  },
  {
   "cell_type": "code",
   "execution_count": null,
   "id": "7cc031f1-52f7-471c-9a50-320df475a7be",
   "metadata": {},
   "outputs": [],
   "source": [
    "data = {\n",
    "    'Station ID': ['05BE004', '05BH004', '05BL004', '05CC002'],\n",
    "    'seg ID': [71028039, 71027942, 71034975, 71022153],\n",
    "    'Station name': [\n",
    "        'BOW RIVER NEAR SEEBE',\n",
    "        'BOW RIVER AT CALGARY',\n",
    "        'HIGHWOOD RIVER BELOW LITTLE BOW CANAL',\n",
    "        'RED DEER RIVER AT RED DEER'\n",
    "    ],\n",
    "    'up': [0, 0, 0, 0],\n",
    "    'X': [-115.03,-114.05,-113.86,-113.82],\n",
    "    'Y': [51.11,    51.05,  50.58,  52.27]\n",
    "}\n",
    "\n",
    "# Create a DataFrame from the dictionary\n",
    "stations_seg_id = pd.DataFrame(data)\n",
    "\n",
    "# Create a points from the dictionary\n",
    "geometry = [Point(xy) for xy in zip(data['X'], data['Y'])]\n",
    "stations_points = gpd.GeoDataFrame(data, geometry=geometry, crs='EPSG:4326')"
   ]
  },
  {
   "cell_type": "code",
   "execution_count": null,
   "id": "2720491e-fd15-4cc7-ab22-b597e9d11c1f",
   "metadata": {},
   "outputs": [],
   "source": [
    "# slice the domain for various stations and their seg ID\n",
    "cat_slice, riv_slice = gm.subset_ntopo(cat=cat,\\\n",
    "                                       cat_cols={'id':'COMID'},\\\n",
    "                                       riv=riv,\\\n",
    "                                       riv_cols={'id':'COMID', 'next_id':'NextDownID'},\\\n",
    "                                       outlet_id=list(stations_seg_id['seg ID']))\n",
    "\n"
   ]
  },
  {
   "cell_type": "code",
   "execution_count": null,
   "id": "1f26048d-a3f2-4892-beb6-f4d7302f577c",
   "metadata": {},
   "outputs": [],
   "source": [
    "fig, ax = plt.subplots(figsize=(20,30))\n",
    "riv_slice.plot(ax=ax, color='b')\n",
    "cat_slice.boundary.plot(ax=ax, color='k')\n",
    "stations_points.plot(ax=ax, color='r', markersize=200)\n"
   ]
  },
  {
   "cell_type": "code",
   "execution_count": null,
   "id": "3d9f33e2-8a16-40d0-b3bf-69045502eab4",
   "metadata": {},
   "outputs": [],
   "source": [
    "xr_ntopo = gm.create_xr_ntopo(riv_slice,\n",
    "                              cat_slice,\n",
    "                              network = 'merit')\n",
    "xr_ntopo"
   ]
  },
  {
   "cell_type": "code",
   "execution_count": null,
   "id": "f5a90dde-7967-4a62-b38a-c9d978422ffa",
   "metadata": {},
   "outputs": [],
   "source": [
    "cat_slice.to_file(path_out+prefix+'cat.shp')\n",
    "riv_slice.to_file(path_out+prefix+'riv.shp')\n",
    "xr_ntopo.to_netcdf(path_out+prefix+'ntopo.nc')"
   ]
  },
  {
   "cell_type": "code",
   "execution_count": null,
   "id": "8060b628-efe3-4404-b35c-6ba079112641",
   "metadata": {},
   "outputs": [],
   "source": []
  }
 ],
 "metadata": {
  "kernelspec": {
   "display_name": "fhimp_venv",
   "language": "python",
   "name": "fhimp_venv"
  },
  "language_info": {
   "codemirror_mode": {
    "name": "ipython",
    "version": 3
   },
   "file_extension": ".py",
   "mimetype": "text/x-python",
   "name": "python",
   "nbconvert_exporter": "python",
   "pygments_lexer": "ipython3",
   "version": "3.10.2"
  }
 },
 "nbformat": 4,
 "nbformat_minor": 5
}
