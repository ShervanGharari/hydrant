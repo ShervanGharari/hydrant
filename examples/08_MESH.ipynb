{
 "cells": [
  {
   "cell_type": "code",
   "execution_count": 1,
   "id": "8941fa25-80ea-456a-8ec0-6e03a84107e6",
   "metadata": {},
   "outputs": [],
   "source": [
    "import hydrant.models.MESH as MESH\n",
    "\n",
    "# Example usage:\n",
    "MESH.MESH_parameters_CLASS(land_cover = 'CEC',\n",
    "                           eixsting_land_cover = ['1','2','3'])  # Pass the list of keys you want to merge\n",
    "\n",
    "MESH.MESH_parameters_hydrology(land_cover = 'CEC',\n",
    "                               eixsting_land_cover = [1, 2,5,19])"
   ]
  },
  {
   "cell_type": "code",
   "execution_count": null,
   "id": "aeb2e5b0-9ad6-42ce-923e-17270d375bbd",
   "metadata": {},
   "outputs": [],
   "source": [
    "import pandas as pd\n",
    "\n",
    "ntopo = pd.read_csv('./data/topology/West_mizuRoute_ntopo.csv')\n",
    "\n",
    "\n",
    "def MESH_Dranage_database (ntopo,\n",
    "                           GRU,\n",
    "                           GRU_Frac,\n",
    "                           ntopo_mapping = {'subbasin': 'COMID',\\\n",
    "                                            'ChnlSlope': 'slope',\\\n",
    "                                            'ChnlLength': 'length',\\\n",
    "                                            'Rank': 'Rank',\\\n",
    "                                            'Next': 'Next',\\\n",
    "                                            'GridArea': 'unitarea',\\\n",
    "                                            'lat': 'latitude',\\\n",
    "                                            'lon': 'longitude'},\n",
    "                           GRU_mapping = {'combination':'combinations'}\n",
    "                           GRU_Frac_mapping = {'subbasin': 'COMID'}):\n",
    "    \n",
    "    # read ntopo check the rank frist and assign the id as index\n",
    "    flipped_ntopo_mapping = {v: k for k, v in ntopo_mapping.items()}\n",
    "\n",
    "    # Renaming columns based on flipped values\n",
    "    ntopo.rename(columns=flipped_ntopo_mapping, inplace=True)\n",
    "    \n",
    "    # \n",
    "    ntopo.sort_values(by='Rank', inplace=True)\n",
    "\n",
    "    # Checking if 'Rank' is sorted properly and equal to the number of rows\n",
    "    is_rank_sorted = ntopo['Rank'].is_monotonic_increasing and (ntopo['Rank'].max() == len(ntopo))\n",
    "    \n",
    "    # convert the index to ID or subbasin\n",
    "    ntopo.set_index('subbasin', inplace=True)\n",
    "    \n",
    "    \n",
    "    # read GRU and get the dimnesion of GRU\n",
    "    GRU_num = len(GRU)\n",
    "    \n",
    "    \n",
    "    # get the GRU Fract and and assing the \n",
    "    flipped_GRU_Frac_mapping = {v: k for k, v in GRU_Frac_mapping.items()}\n",
    "    GRU_Frac.set_index('subbasin', inplace=True)\n",
    "    GRU_Frac.reindex(ntopo.index, inplace=True)\n",
    "    if len(GRU_Frac) != len (ntopo):\n",
    "        sys.exit('The id in network topology')\n",
    "    \n",
    "    # convert to xarray obsect and return\n",
    "    ntopo_ds = ntopo.to_xarray()\n",
    "    \n",
    "    # convert the GRU Fract to data array\n",
    "    GRU['combination'].to_xarray()"
   ]
  },
  {
   "cell_type": "code",
   "execution_count": null,
   "id": "cad0f324-ba9f-45cd-8f2a-90b192b08f3f",
   "metadata": {},
   "outputs": [],
   "source": []
  }
 ],
 "metadata": {
  "kernelspec": {
   "display_name": "fhimp_venv",
   "language": "python",
   "name": "fhimp_venv"
  },
  "language_info": {
   "codemirror_mode": {
    "name": "ipython",
    "version": 3
   },
   "file_extension": ".py",
   "mimetype": "text/x-python",
   "name": "python",
   "nbconvert_exporter": "python",
   "pygments_lexer": "ipython3",
   "version": "3.10.2"
  }
 },
 "nbformat": 4,
 "nbformat_minor": 5
}
