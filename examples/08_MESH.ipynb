{
 "cells": [
  {
   "cell_type": "code",
   "execution_count": null,
   "id": "8941fa25-80ea-456a-8ec0-6e03a84107e6",
   "metadata": {},
   "outputs": [],
   "source": [
    "import hydrant.models.MESH as MESH\n",
    "\n",
    "# Example usage:\n",
    "MESH.merge_multiple_keys(['1', '2', '3'])  # Pass the list of keys you want to merge"
   ]
  }
 ],
 "metadata": {
  "kernelspec": {
   "display_name": "fhimp_venv",
   "language": "python",
   "name": "fhimp_venv"
  },
  "language_info": {
   "codemirror_mode": {
    "name": "ipython",
    "version": 3
   },
   "file_extension": ".py",
   "mimetype": "text/x-python",
   "name": "python",
   "nbconvert_exporter": "python",
   "pygments_lexer": "ipython3",
   "version": "3.10.2"
  }
 },
 "nbformat": 4,
 "nbformat_minor": 5
}
