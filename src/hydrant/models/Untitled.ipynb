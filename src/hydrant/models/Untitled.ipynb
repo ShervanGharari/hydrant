{
 "cells": [
  {
   "cell_type": "code",
   "execution_count": 5,
   "id": "b5eb9bd6-bea4-45fa-b249-f7c695eb2ecd",
   "metadata": {},
   "outputs": [
    {
     "ename": "ImportError",
     "evalue": "attempted relative import with no known parent package",
     "output_type": "error",
     "traceback": [
      "\u001b[0;31m---------------------------------------------------------------------------\u001b[0m",
      "\u001b[0;31mImportError\u001b[0m                               Traceback (most recent call last)",
      "Cell \u001b[0;32mIn[5], line 22\u001b[0m\n\u001b[1;32m     12\u001b[0m     \u001b[38;5;28mprint\u001b[39m(merged_data)\n\u001b[1;32m     14\u001b[0m     \u001b[38;5;66;03m# if merged_data:\u001b[39;00m\n\u001b[1;32m     15\u001b[0m     \u001b[38;5;66;03m#     with open(\"merged_data.txt\", \"w\") as file:\u001b[39;00m\n\u001b[1;32m     16\u001b[0m     \u001b[38;5;66;03m#         file.write(merged_data)\u001b[39;00m\n\u001b[0;32m   (...)\u001b[0m\n\u001b[1;32m     20\u001b[0m \n\u001b[1;32m     21\u001b[0m \u001b[38;5;66;03m# Example usage:\u001b[39;00m\n\u001b[0;32m---> 22\u001b[0m \u001b[43mmerge_multiple_keys\u001b[49m\u001b[43m(\u001b[49m\u001b[43m[\u001b[49m\u001b[38;5;124;43m'\u001b[39;49m\u001b[38;5;124;43m1\u001b[39;49m\u001b[38;5;124;43m'\u001b[39;49m\u001b[43m,\u001b[49m\u001b[43m \u001b[49m\u001b[38;5;124;43m'\u001b[39;49m\u001b[38;5;124;43m2\u001b[39;49m\u001b[38;5;124;43m'\u001b[39;49m\u001b[43m,\u001b[49m\u001b[43m \u001b[49m\u001b[38;5;124;43m'\u001b[39;49m\u001b[38;5;124;43m3\u001b[39;49m\u001b[38;5;124;43m'\u001b[39;49m\u001b[43m]\u001b[49m\u001b[43m)\u001b[49m  \u001b[38;5;66;03m# Pass the list of keys you want to merge\u001b[39;00m\n",
      "Cell \u001b[0;32mIn[5], line 4\u001b[0m, in \u001b[0;36mmerge_multiple_keys\u001b[0;34m(land_cover, keys)\u001b[0m\n\u001b[1;32m      1\u001b[0m \u001b[38;5;28;01mdef\u001b[39;00m \u001b[38;5;21mmerge_multiple_keys\u001b[39m(land_cover \u001b[38;5;241m=\u001b[39m \u001b[38;5;124m'\u001b[39m\u001b[38;5;124mCEC\u001b[39m\u001b[38;5;124m'\u001b[39m,\n\u001b[1;32m      2\u001b[0m                         keys \u001b[38;5;241m=\u001b[39m [\u001b[38;5;241m1\u001b[39m,\u001b[38;5;241m2\u001b[39m,\u001b[38;5;241m3\u001b[39m,\u001b[38;5;241m4\u001b[39m,\u001b[38;5;241m5\u001b[39m,]):\n\u001b[0;32m----> 4\u001b[0m     \u001b[38;5;28;01mfrom\u001b[39;00m \u001b[38;5;21;01m.\u001b[39;00m\u001b[38;5;21;01mMESH_default_dict\u001b[39;00m\u001b[38;5;21;01m.\u001b[39;00m\u001b[38;5;21;01mpy\u001b[39;00m \u001b[38;5;28;01mimport\u001b[39;00m LULC\n\u001b[1;32m      6\u001b[0m     merged_data \u001b[38;5;241m=\u001b[39m \u001b[38;5;124m\"\u001b[39m\u001b[38;5;124m\"\u001b[39m\n\u001b[1;32m      7\u001b[0m     \u001b[38;5;28;01mfor\u001b[39;00m key \u001b[38;5;129;01min\u001b[39;00m keys:\n",
      "\u001b[0;31mImportError\u001b[0m: attempted relative import with no known parent package"
     ]
    }
   ],
   "source": [
    "\n",
    "\n",
    "\n",
    "def merge_multiple_keys(land_cover = 'CEC',\n",
    "                        keys = [1,2,3,4,5,]):\n",
    "    \n",
    "    from .MESH_default_dict.py import LULC\n",
    "    \n",
    "    merged_data = \"\"\n",
    "    for key in keys:\n",
    "        data = LULC.get(key)\n",
    "        if data:\n",
    "            merged_data += f\"--- Key {key} ---\\n{data}\\n\\n\"\n",
    "            \n",
    "    print(merged_data)\n",
    "\n",
    "    # if merged_data:\n",
    "    #     with open(\"merged_data.txt\", \"w\") as file:\n",
    "    #         file.write(merged_data)\n",
    "    #     print(f\"Merged data for keys {', '.join(keys)} has been written to merged_data.txt\")\n",
    "    # else:\n",
    "    #     print(\"No data found for the given keys\")\n",
    "\n",
    "# Example usage:\n",
    "merge_multiple_keys(['1', '2', '3'])  # Pass the list of keys you want to merge\n"
   ]
  },
  {
   "cell_type": "code",
   "execution_count": null,
   "id": "e004cac0-74ee-4f55-a392-e35963c5e2b7",
   "metadata": {},
   "outputs": [],
   "source": []
  }
 ],
 "metadata": {
  "kernelspec": {
   "display_name": "fhimp_venv",
   "language": "python",
   "name": "fhimp_venv"
  },
  "language_info": {
   "codemirror_mode": {
    "name": "ipython",
    "version": 3
   },
   "file_extension": ".py",
   "mimetype": "text/x-python",
   "name": "python",
   "nbconvert_exporter": "python",
   "pygments_lexer": "ipython3",
   "version": "3.10.2"
  }
 },
 "nbformat": 4,
 "nbformat_minor": 5
}
